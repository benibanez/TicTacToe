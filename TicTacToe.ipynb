{
 "cells": [
  {
   "cell_type": "code",
   "execution_count": 19,
   "metadata": {},
   "outputs": [
    {
     "name": "stdout",
     "output_type": "stream",
     "text": [
      "Welcome to Tic Tac Toe!\n"
     ]
    },
    {
     "name": "stdin",
     "output_type": "stream",
     "text": [
      "Player 1: Do you want to be X's or O's? X\n"
     ]
    },
    {
     "name": "stdout",
     "output_type": "stream",
     "text": [
      "Player 1 will be X's and Player 2 will be O's\n",
      "Player 1 will go first.\n"
     ]
    },
    {
     "name": "stdin",
     "output_type": "stream",
     "text": [
      "Are you ready to play? Enter Yes or No Yes\n"
     ]
    },
    {
     "name": "stdout",
     "output_type": "stream",
     "text": [
      "1|2|3\n",
      "=====\n",
      "4|5|6\n",
      "=====\n",
      "7|8|9\n"
     ]
    },
    {
     "name": "stdin",
     "output_type": "stream",
     "text": [
      "Player 1: Where do you want to move (enter a whole number between 1-9)? 1\n"
     ]
    },
    {
     "name": "stdout",
     "output_type": "stream",
     "text": [
      "X|2|3\n",
      "=====\n",
      "4|5|6\n",
      "=====\n",
      "7|8|9\n"
     ]
    },
    {
     "name": "stdin",
     "output_type": "stream",
     "text": [
      "Player 2: Where do you want to move (enter a whole number between 1-9)? 2\n"
     ]
    },
    {
     "name": "stdout",
     "output_type": "stream",
     "text": [
      "X|O|3\n",
      "=====\n",
      "4|5|6\n",
      "=====\n",
      "7|8|9\n"
     ]
    },
    {
     "name": "stdin",
     "output_type": "stream",
     "text": [
      "Player 1: Where do you want to move (enter a whole number between 1-9)? 4\n"
     ]
    },
    {
     "name": "stdout",
     "output_type": "stream",
     "text": [
      "X|O|3\n",
      "=====\n",
      "X|5|6\n",
      "=====\n",
      "7|8|9\n"
     ]
    },
    {
     "name": "stdin",
     "output_type": "stream",
     "text": [
      "Player 2: Where do you want to move (enter a whole number between 1-9)? 3\n"
     ]
    },
    {
     "name": "stdout",
     "output_type": "stream",
     "text": [
      "X|O|O\n",
      "=====\n",
      "X|5|6\n",
      "=====\n",
      "7|8|9\n"
     ]
    },
    {
     "name": "stdin",
     "output_type": "stream",
     "text": [
      "Player 1: Where do you want to move (enter a whole number between 1-9)? 7\n"
     ]
    },
    {
     "name": "stdout",
     "output_type": "stream",
     "text": [
      "Player 1 Wins!\n"
     ]
    },
    {
     "name": "stdin",
     "output_type": "stream",
     "text": [
      "Would you like to play again? Enter Yes or No No\n"
     ]
    },
    {
     "name": "stdout",
     "output_type": "stream",
     "text": [
      "Thank you for playing Tic Tac Toe!\n"
     ]
    }
   ],
   "source": [
    "print(\"Welcome to Tic Tac Toe!\")\n",
    "Player1 = input(\"Player 1: Do you want to be X's or O's?\") #assign Player 1 X or O\n",
    "Player1 = Player1.upper() #make the assigned letter x or O\n",
    "Player2 = 'i'\n",
    "top_row = '1|2|3'\n",
    "line = '====='\n",
    "middle_row = '4|5|6'\n",
    "bottom_row = '7|8|9'\n",
    "turn_counter = 1\n",
    "\n",
    "if Player1 == 'X':\n",
    "    Player2 = 'O'\n",
    "else:\n",
    "    Player2 = 'X'\n",
    "\n",
    "print(\"Player 1 will be {}'s and Player 2 will be {}'s\".format(Player1,Player2))\n",
    "\n",
    "\n",
    "\n",
    "\n",
    "print(\"Player 1 will go first.\")\n",
    "start = input(\"Are you ready to play? Enter Yes or No\")\n",
    "\n",
    "while start == 'Yes':\n",
    "    winner = False\n",
    "    \n",
    "    \n",
    "    while winner == False:\n",
    "        \n",
    "        print(top_row)\n",
    "        print(line)\n",
    "        print(middle_row)\n",
    "        print(line)\n",
    "        print(bottom_row)\n",
    "        \n",
    "        if turn_counter % 2 != 0:\n",
    "            choice = (input(\"Player 1: Where do you want to move (enter a whole number between 1-9)?\"))\n",
    "            turn_counter = 2\n",
    "            if choice == '1':\n",
    "                top_row = Player1 + top_row[1:]\n",
    "            elif choice == '2':\n",
    "                top_row = top_row[0:2] + Player1 + top_row[3:]\n",
    "            elif choice == '3':\n",
    "                top_row = top_row[0:-1] + Player1\n",
    "            elif choice == '4':\n",
    "                middle_row = Player1 + middle_row[1:]\n",
    "            elif choice == '5':\n",
    "                middle_row = middle_row[0:2] + Player1 + middle_row[3:]\n",
    "            elif choice == '6':\n",
    "                middle_row = middle_row[0:-1] + Player1\n",
    "            elif choice == '7':\n",
    "                bottom_row = Player1 + bottom_row[1:]\n",
    "            elif choice == '8':\n",
    "                bottom_row = bottom_row[0:2] + Player1 + bottom_row[3:]\n",
    "            elif choice == '9':\n",
    "                bottom_row = bottom_row[0:-1] + Player1\n",
    "            \n",
    "        else:\n",
    "            choice = input(\"Player 2: Where do you want to move (enter a whole number between 1-9)?\")\n",
    "            turn_counter = 1\n",
    "            if choice == '1':\n",
    "                top_row = Player2 + top_row[1:]\n",
    "            elif choice == '2':\n",
    "                top_row = top_row[0:2] + Player2 + top_row[3:]\n",
    "            elif choice == '3':\n",
    "                top_row = top_row[0:-1] + Player2\n",
    "            elif choice == '4':\n",
    "                middle_row = Player2 + middle_row[1:]\n",
    "            elif choice == '5':\n",
    "                middle_row = middle_row[0:2] + Player2 + middle_row[3:]\n",
    "            elif choice == '6':\n",
    "                middle_row = middle_row[0:-1] + Player2\n",
    "            elif choice == '7':\n",
    "                bottom_row = Player2 + bottom_row[1:]\n",
    "            elif choice == '8':\n",
    "                bottom_row = bottom_row[0:2] + Player2 + bottom_row[3:]\n",
    "            elif choice == '9':\n",
    "                bottom_row = bottom_row[0:-1] + Player2\n",
    "                \n",
    "        if top_row[0] == Player1 and top_row[2] == Player1 and top_row[4] == Player1:\n",
    "            print(\"Player 1 Wins!\")\n",
    "            winner = True\n",
    "        elif top_row[0] == Player2 and top_row[2] == Player2 and top_row[4] == Player2:\n",
    "            print(\"Player 2 Wins!\")\n",
    "            winner = True\n",
    "        elif middle_row[0] == Player1 and middle_row[2] == Player1 and middle_row[4] == Player1:\n",
    "            print(\"Player 1 Wins!\")\n",
    "            winner = True\n",
    "        elif middle_row[0] == Player2 and middle_row[2] == Player2 and middle_row[4] == Player2:\n",
    "            print(\"Player 2 Wins!\")\n",
    "            winner = True\n",
    "        elif bottom_row[0] == Player1 and bottom_row[2] == Player1 and bottom_row[4] == Player1:\n",
    "            print(\"Player 1 Wins!\")\n",
    "            winner = True\n",
    "        elif bottom_row[0] == Player2 and bottom_row[2] == Player2 and bottom_row[4] == Player2:\n",
    "            print(\"Player 2 Wins!\")\n",
    "            winner = True\n",
    "        elif top_row[0] == Player1 and middle_row[2] == Player1 and bottom_row[4] == Player1:\n",
    "            print(\"Player 1 Wins!\")\n",
    "            winner = True\n",
    "        elif top_row[0] == Player2 and middle_row[2] == Player2 and bottom_row[4] == Player2:\n",
    "            print(\"Player 2 Wins!\")\n",
    "            winner = True\n",
    "        elif top_row[4] == Player1 and middle_row[2] == Player1 and bottom_row[0] == Player1:\n",
    "            print(\"Player 1 Wins!\")\n",
    "            winner = True\n",
    "        elif top_row[4] == Player2 and middle_row[2] == Player2 and bottom_row[0] == Player2:\n",
    "            print(\"Player 2 Wins!\")\n",
    "            winner = True\n",
    "        elif top_row[0] == Player1 and middle_row[0] == Player1 and bottom_row[0] == Player1:\n",
    "            print(\"Player 1 Wins!\")\n",
    "            winner = True\n",
    "        elif top_row[0] == Player2 and middle_row[0] == Player2 and bottom_row[0] == Player2:\n",
    "            print(\"Player 2 Wins!\")\n",
    "            winner = True\n",
    "        elif top_row[2] == Player1 and middle_row[2] == Player1 and bottom_row[2] == Player1:\n",
    "            print(\"Player 1 Wins!\")\n",
    "            winner = True\n",
    "        elif top_row[2] == Player2 and middle_row[2] == Player2 and bottom_row[2] == Player2:\n",
    "            print(\"Player 2 Wins!\")\n",
    "            winner = True\n",
    "        elif top_row[4] == Player1 and middle_row[4] == Player1 and bottom_row[4] == Player1:\n",
    "            print(\"Player 1 Wins!\")\n",
    "            winner = True\n",
    "        elif top_row[4] == Player2 and middle_row[4] == Player2 and bottom_row[4] == Player2:\n",
    "            print(\"Player 2 Wins!\")\n",
    "            winner = True\n",
    "        \n",
    "\n",
    "    start = input('Would you like to play again? Enter Yes or No')\n",
    "\n",
    "else:\n",
    "    print('Thank you for playing Tic Tac Toe!')\n",
    "    \n",
    "    \n",
    "    \n",
    "    \n",
    "    \n",
    "    \n",
    "    \n",
    "    \n",
    "    \n",
    "    \n",
    "\n",
    "\n",
    "\n"
   ]
  },
  {
   "cell_type": "code",
   "execution_count": 8,
   "metadata": {},
   "outputs": [
    {
     "ename": "SyntaxError",
     "evalue": "invalid syntax (<ipython-input-8-9228f71b64b6>, line 1)",
     "output_type": "error",
     "traceback": [
      "\u001b[0;36m  File \u001b[0;32m\"<ipython-input-8-9228f71b64b6>\"\u001b[0;36m, line \u001b[0;32m1\u001b[0m\n\u001b[0;31m    |  |\u001b[0m\n\u001b[0m    ^\u001b[0m\n\u001b[0;31mSyntaxError\u001b[0m\u001b[0;31m:\u001b[0m invalid syntax\n"
     ]
    }
   ],
   "source": [
    "\\  / |    |   \n",
    " \\/  |    |\n",
    " /\\  |    |\n",
    "/  \\ |    |\n",
    "----------------\n",
    "     |    |\n",
    "     |    |\n",
    "     |    |\n",
    "     |    |\n",
    "----------------\n",
    "     |    |\n",
    "     |    |\n",
    "     |    |\n",
    "     |    |"
   ]
  },
  {
   "cell_type": "code",
   "execution_count": null,
   "metadata": {},
   "outputs": [],
   "source": [
    "X|O|X\n",
    "=====\n",
    "O|X|O\n",
    "=====\n",
    "X|O|X\n"
   ]
  },
  {
   "cell_type": "code",
   "execution_count": 2,
   "metadata": {},
   "outputs": [
    {
     "name": "stdout",
     "output_type": "stream",
     "text": [
      "1|2|3\n"
     ]
    }
   ],
   "source": []
  },
  {
   "cell_type": "code",
   "execution_count": null,
   "metadata": {},
   "outputs": [],
   "source": []
  },
  {
   "cell_type": "code",
   "execution_count": null,
   "metadata": {},
   "outputs": [],
   "source": []
  },
  {
   "cell_type": "code",
   "execution_count": null,
   "metadata": {},
   "outputs": [],
   "source": []
  }
 ],
 "metadata": {
  "kernelspec": {
   "display_name": "Python 3",
   "language": "python",
   "name": "python3"
  },
  "language_info": {
   "codemirror_mode": {
    "name": "ipython",
    "version": 3
   },
   "file_extension": ".py",
   "mimetype": "text/x-python",
   "name": "python",
   "nbconvert_exporter": "python",
   "pygments_lexer": "ipython3",
   "version": "3.7.1"
  }
 },
 "nbformat": 4,
 "nbformat_minor": 2
}
